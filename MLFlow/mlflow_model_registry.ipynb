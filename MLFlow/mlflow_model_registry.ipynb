{
 "cells": [
  {
   "cell_type": "markdown",
   "id": "4ba9d7ec",
   "metadata": {},
   "source": [
    "# MLFlow model registry"
   ]
  },
  {
   "cell_type": "markdown",
   "id": "edb753f1",
   "metadata": {},
   "source": [
    "Install the MLFlow model registry to manage your machine learning models."
   ]
  },
  {
   "cell_type": "code",
   "execution_count": 1,
   "id": "cfa3fba7",
   "metadata": {},
   "outputs": [
    {
     "name": "stdout",
     "output_type": "stream",
     "text": [
      "Requirement already satisfied: mlflow in /opt/homebrew/Caskroom/miniconda/base/envs/machinelearning/lib/python3.11/site-packages (3.2.0)\n",
      "Requirement already satisfied: mlflow-skinny==3.2.0 in /opt/homebrew/Caskroom/miniconda/base/envs/machinelearning/lib/python3.11/site-packages (from mlflow) (3.2.0)\n",
      "Requirement already satisfied: mlflow-tracing==3.2.0 in /opt/homebrew/Caskroom/miniconda/base/envs/machinelearning/lib/python3.11/site-packages (from mlflow) (3.2.0)\n",
      "Requirement already satisfied: Flask<4 in /opt/homebrew/Caskroom/miniconda/base/envs/machinelearning/lib/python3.11/site-packages (from mlflow) (3.1.1)\n",
      "Requirement already satisfied: alembic!=1.10.0,<2 in /opt/homebrew/Caskroom/miniconda/base/envs/machinelearning/lib/python3.11/site-packages (from mlflow) (1.16.4)\n",
      "Requirement already satisfied: docker<8,>=4.0.0 in /opt/homebrew/Caskroom/miniconda/base/envs/machinelearning/lib/python3.11/site-packages (from mlflow) (7.1.0)\n",
      "Requirement already satisfied: graphene<4 in /opt/homebrew/Caskroom/miniconda/base/envs/machinelearning/lib/python3.11/site-packages (from mlflow) (3.4.3)\n",
      "Requirement already satisfied: gunicorn<24 in /opt/homebrew/Caskroom/miniconda/base/envs/machinelearning/lib/python3.11/site-packages (from mlflow) (23.0.0)\n",
      "Requirement already satisfied: matplotlib<4 in /opt/homebrew/Caskroom/miniconda/base/envs/machinelearning/lib/python3.11/site-packages (from mlflow) (3.10.3)\n",
      "Requirement already satisfied: numpy<3 in /opt/homebrew/Caskroom/miniconda/base/envs/machinelearning/lib/python3.11/site-packages (from mlflow) (2.3.1)\n",
      "Requirement already satisfied: pandas<3 in /opt/homebrew/Caskroom/miniconda/base/envs/machinelearning/lib/python3.11/site-packages (from mlflow) (2.3.1)\n",
      "Requirement already satisfied: pyarrow<22,>=4.0.0 in /opt/homebrew/Caskroom/miniconda/base/envs/machinelearning/lib/python3.11/site-packages (from mlflow) (21.0.0)\n",
      "Requirement already satisfied: scikit-learn<2 in /opt/homebrew/Caskroom/miniconda/base/envs/machinelearning/lib/python3.11/site-packages (from mlflow) (1.7.0)\n",
      "Requirement already satisfied: scipy<2 in /opt/homebrew/Caskroom/miniconda/base/envs/machinelearning/lib/python3.11/site-packages (from mlflow) (1.16.0)\n",
      "Requirement already satisfied: sqlalchemy<3,>=1.4.0 in /opt/homebrew/Caskroom/miniconda/base/envs/machinelearning/lib/python3.11/site-packages (from mlflow) (2.0.42)\n",
      "Requirement already satisfied: cachetools<7,>=5.0.0 in /opt/homebrew/Caskroom/miniconda/base/envs/machinelearning/lib/python3.11/site-packages (from mlflow-skinny==3.2.0->mlflow) (5.5.2)\n",
      "Requirement already satisfied: click<9,>=7.0 in /opt/homebrew/Caskroom/miniconda/base/envs/machinelearning/lib/python3.11/site-packages (from mlflow-skinny==3.2.0->mlflow) (8.2.1)\n",
      "Requirement already satisfied: cloudpickle<4 in /opt/homebrew/Caskroom/miniconda/base/envs/machinelearning/lib/python3.11/site-packages (from mlflow-skinny==3.2.0->mlflow) (3.1.1)\n",
      "Requirement already satisfied: databricks-sdk<1,>=0.20.0 in /opt/homebrew/Caskroom/miniconda/base/envs/machinelearning/lib/python3.11/site-packages (from mlflow-skinny==3.2.0->mlflow) (0.62.0)\n",
      "Requirement already satisfied: fastapi<1 in /opt/homebrew/Caskroom/miniconda/base/envs/machinelearning/lib/python3.11/site-packages (from mlflow-skinny==3.2.0->mlflow) (0.116.1)\n",
      "Requirement already satisfied: gitpython<4,>=3.1.9 in /opt/homebrew/Caskroom/miniconda/base/envs/machinelearning/lib/python3.11/site-packages (from mlflow-skinny==3.2.0->mlflow) (3.1.45)\n",
      "Requirement already satisfied: importlib_metadata!=4.7.0,<9,>=3.7.0 in /opt/homebrew/Caskroom/miniconda/base/envs/machinelearning/lib/python3.11/site-packages (from mlflow-skinny==3.2.0->mlflow) (8.7.0)\n",
      "Requirement already satisfied: opentelemetry-api<3,>=1.9.0 in /opt/homebrew/Caskroom/miniconda/base/envs/machinelearning/lib/python3.11/site-packages (from mlflow-skinny==3.2.0->mlflow) (1.36.0)\n",
      "Requirement already satisfied: opentelemetry-sdk<3,>=1.9.0 in /opt/homebrew/Caskroom/miniconda/base/envs/machinelearning/lib/python3.11/site-packages (from mlflow-skinny==3.2.0->mlflow) (1.36.0)\n",
      "Requirement already satisfied: packaging<26 in /opt/homebrew/Caskroom/miniconda/base/envs/machinelearning/lib/python3.11/site-packages (from mlflow-skinny==3.2.0->mlflow) (25.0)\n",
      "Requirement already satisfied: protobuf<7,>=3.12.0 in /opt/homebrew/Caskroom/miniconda/base/envs/machinelearning/lib/python3.11/site-packages (from mlflow-skinny==3.2.0->mlflow) (6.31.1)\n",
      "Requirement already satisfied: pydantic<3,>=1.10.8 in /opt/homebrew/Caskroom/miniconda/base/envs/machinelearning/lib/python3.11/site-packages (from mlflow-skinny==3.2.0->mlflow) (2.11.7)\n",
      "Requirement already satisfied: pyyaml<7,>=5.1 in /opt/homebrew/Caskroom/miniconda/base/envs/machinelearning/lib/python3.11/site-packages (from mlflow-skinny==3.2.0->mlflow) (6.0.2)\n",
      "Requirement already satisfied: requests<3,>=2.17.3 in /opt/homebrew/Caskroom/miniconda/base/envs/machinelearning/lib/python3.11/site-packages (from mlflow-skinny==3.2.0->mlflow) (2.32.4)\n",
      "Requirement already satisfied: sqlparse<1,>=0.4.0 in /opt/homebrew/Caskroom/miniconda/base/envs/machinelearning/lib/python3.11/site-packages (from mlflow-skinny==3.2.0->mlflow) (0.5.3)\n",
      "Requirement already satisfied: typing-extensions<5,>=4.0.0 in /opt/homebrew/Caskroom/miniconda/base/envs/machinelearning/lib/python3.11/site-packages (from mlflow-skinny==3.2.0->mlflow) (4.14.1)\n",
      "Requirement already satisfied: uvicorn<1 in /opt/homebrew/Caskroom/miniconda/base/envs/machinelearning/lib/python3.11/site-packages (from mlflow-skinny==3.2.0->mlflow) (0.35.0)\n",
      "Requirement already satisfied: Mako in /opt/homebrew/Caskroom/miniconda/base/envs/machinelearning/lib/python3.11/site-packages (from alembic!=1.10.0,<2->mlflow) (1.3.10)\n",
      "Requirement already satisfied: google-auth~=2.0 in /opt/homebrew/Caskroom/miniconda/base/envs/machinelearning/lib/python3.11/site-packages (from databricks-sdk<1,>=0.20.0->mlflow-skinny==3.2.0->mlflow) (2.40.3)\n",
      "Requirement already satisfied: urllib3>=1.26.0 in /opt/homebrew/Caskroom/miniconda/base/envs/machinelearning/lib/python3.11/site-packages (from docker<8,>=4.0.0->mlflow) (2.5.0)\n",
      "Requirement already satisfied: starlette<0.48.0,>=0.40.0 in /opt/homebrew/Caskroom/miniconda/base/envs/machinelearning/lib/python3.11/site-packages (from fastapi<1->mlflow-skinny==3.2.0->mlflow) (0.47.2)\n",
      "Requirement already satisfied: blinker>=1.9.0 in /opt/homebrew/Caskroom/miniconda/base/envs/machinelearning/lib/python3.11/site-packages (from Flask<4->mlflow) (1.9.0)\n",
      "Requirement already satisfied: itsdangerous>=2.2.0 in /opt/homebrew/Caskroom/miniconda/base/envs/machinelearning/lib/python3.11/site-packages (from Flask<4->mlflow) (2.2.0)\n",
      "Requirement already satisfied: jinja2>=3.1.2 in /opt/homebrew/Caskroom/miniconda/base/envs/machinelearning/lib/python3.11/site-packages (from Flask<4->mlflow) (3.1.6)\n",
      "Requirement already satisfied: markupsafe>=2.1.1 in /opt/homebrew/Caskroom/miniconda/base/envs/machinelearning/lib/python3.11/site-packages (from Flask<4->mlflow) (3.0.2)\n",
      "Requirement already satisfied: werkzeug>=3.1.0 in /opt/homebrew/Caskroom/miniconda/base/envs/machinelearning/lib/python3.11/site-packages (from Flask<4->mlflow) (3.1.3)\n",
      "Requirement already satisfied: gitdb<5,>=4.0.1 in /opt/homebrew/Caskroom/miniconda/base/envs/machinelearning/lib/python3.11/site-packages (from gitpython<4,>=3.1.9->mlflow-skinny==3.2.0->mlflow) (4.0.12)\n",
      "Requirement already satisfied: smmap<6,>=3.0.1 in /opt/homebrew/Caskroom/miniconda/base/envs/machinelearning/lib/python3.11/site-packages (from gitdb<5,>=4.0.1->gitpython<4,>=3.1.9->mlflow-skinny==3.2.0->mlflow) (5.0.2)\n",
      "Requirement already satisfied: pyasn1-modules>=0.2.1 in /opt/homebrew/Caskroom/miniconda/base/envs/machinelearning/lib/python3.11/site-packages (from google-auth~=2.0->databricks-sdk<1,>=0.20.0->mlflow-skinny==3.2.0->mlflow) (0.4.2)\n",
      "Requirement already satisfied: rsa<5,>=3.1.4 in /opt/homebrew/Caskroom/miniconda/base/envs/machinelearning/lib/python3.11/site-packages (from google-auth~=2.0->databricks-sdk<1,>=0.20.0->mlflow-skinny==3.2.0->mlflow) (4.9.1)\n",
      "Requirement already satisfied: graphql-core<3.3,>=3.1 in /opt/homebrew/Caskroom/miniconda/base/envs/machinelearning/lib/python3.11/site-packages (from graphene<4->mlflow) (3.2.6)\n",
      "Requirement already satisfied: graphql-relay<3.3,>=3.1 in /opt/homebrew/Caskroom/miniconda/base/envs/machinelearning/lib/python3.11/site-packages (from graphene<4->mlflow) (3.2.0)\n",
      "Requirement already satisfied: python-dateutil<3,>=2.7.0 in /opt/homebrew/Caskroom/miniconda/base/envs/machinelearning/lib/python3.11/site-packages (from graphene<4->mlflow) (2.9.0.post0)\n",
      "Requirement already satisfied: zipp>=3.20 in /opt/homebrew/Caskroom/miniconda/base/envs/machinelearning/lib/python3.11/site-packages (from importlib_metadata!=4.7.0,<9,>=3.7.0->mlflow-skinny==3.2.0->mlflow) (3.23.0)\n",
      "Requirement already satisfied: contourpy>=1.0.1 in /opt/homebrew/Caskroom/miniconda/base/envs/machinelearning/lib/python3.11/site-packages (from matplotlib<4->mlflow) (1.3.2)\n",
      "Requirement already satisfied: cycler>=0.10 in /opt/homebrew/Caskroom/miniconda/base/envs/machinelearning/lib/python3.11/site-packages (from matplotlib<4->mlflow) (0.12.1)\n",
      "Requirement already satisfied: fonttools>=4.22.0 in /opt/homebrew/Caskroom/miniconda/base/envs/machinelearning/lib/python3.11/site-packages (from matplotlib<4->mlflow) (4.58.5)\n",
      "Requirement already satisfied: kiwisolver>=1.3.1 in /opt/homebrew/Caskroom/miniconda/base/envs/machinelearning/lib/python3.11/site-packages (from matplotlib<4->mlflow) (1.4.8)\n",
      "Requirement already satisfied: pillow>=8 in /opt/homebrew/Caskroom/miniconda/base/envs/machinelearning/lib/python3.11/site-packages (from matplotlib<4->mlflow) (11.3.0)\n",
      "Requirement already satisfied: pyparsing>=2.3.1 in /opt/homebrew/Caskroom/miniconda/base/envs/machinelearning/lib/python3.11/site-packages (from matplotlib<4->mlflow) (3.2.3)\n",
      "Requirement already satisfied: opentelemetry-semantic-conventions==0.57b0 in /opt/homebrew/Caskroom/miniconda/base/envs/machinelearning/lib/python3.11/site-packages (from opentelemetry-sdk<3,>=1.9.0->mlflow-skinny==3.2.0->mlflow) (0.57b0)\n",
      "Requirement already satisfied: pytz>=2020.1 in /opt/homebrew/Caskroom/miniconda/base/envs/machinelearning/lib/python3.11/site-packages (from pandas<3->mlflow) (2025.2)\n",
      "Requirement already satisfied: tzdata>=2022.7 in /opt/homebrew/Caskroom/miniconda/base/envs/machinelearning/lib/python3.11/site-packages (from pandas<3->mlflow) (2025.2)\n",
      "Requirement already satisfied: annotated-types>=0.6.0 in /opt/homebrew/Caskroom/miniconda/base/envs/machinelearning/lib/python3.11/site-packages (from pydantic<3,>=1.10.8->mlflow-skinny==3.2.0->mlflow) (0.7.0)\n",
      "Requirement already satisfied: pydantic-core==2.33.2 in /opt/homebrew/Caskroom/miniconda/base/envs/machinelearning/lib/python3.11/site-packages (from pydantic<3,>=1.10.8->mlflow-skinny==3.2.0->mlflow) (2.33.2)\n",
      "Requirement already satisfied: typing-inspection>=0.4.0 in /opt/homebrew/Caskroom/miniconda/base/envs/machinelearning/lib/python3.11/site-packages (from pydantic<3,>=1.10.8->mlflow-skinny==3.2.0->mlflow) (0.4.1)\n",
      "Requirement already satisfied: six>=1.5 in /opt/homebrew/Caskroom/miniconda/base/envs/machinelearning/lib/python3.11/site-packages (from python-dateutil<3,>=2.7.0->graphene<4->mlflow) (1.17.0)\n",
      "Requirement already satisfied: charset_normalizer<4,>=2 in /opt/homebrew/Caskroom/miniconda/base/envs/machinelearning/lib/python3.11/site-packages (from requests<3,>=2.17.3->mlflow-skinny==3.2.0->mlflow) (3.4.3)\n",
      "Requirement already satisfied: idna<4,>=2.5 in /opt/homebrew/Caskroom/miniconda/base/envs/machinelearning/lib/python3.11/site-packages (from requests<3,>=2.17.3->mlflow-skinny==3.2.0->mlflow) (3.10)\n",
      "Requirement already satisfied: certifi>=2017.4.17 in /opt/homebrew/Caskroom/miniconda/base/envs/machinelearning/lib/python3.11/site-packages (from requests<3,>=2.17.3->mlflow-skinny==3.2.0->mlflow) (2025.8.3)\n",
      "Requirement already satisfied: pyasn1>=0.1.3 in /opt/homebrew/Caskroom/miniconda/base/envs/machinelearning/lib/python3.11/site-packages (from rsa<5,>=3.1.4->google-auth~=2.0->databricks-sdk<1,>=0.20.0->mlflow-skinny==3.2.0->mlflow) (0.6.1)\n",
      "Requirement already satisfied: joblib>=1.2.0 in /opt/homebrew/Caskroom/miniconda/base/envs/machinelearning/lib/python3.11/site-packages (from scikit-learn<2->mlflow) (1.5.1)\n",
      "Requirement already satisfied: threadpoolctl>=3.1.0 in /opt/homebrew/Caskroom/miniconda/base/envs/machinelearning/lib/python3.11/site-packages (from scikit-learn<2->mlflow) (3.6.0)\n",
      "Requirement already satisfied: anyio<5,>=3.6.2 in /opt/homebrew/Caskroom/miniconda/base/envs/machinelearning/lib/python3.11/site-packages (from starlette<0.48.0,>=0.40.0->fastapi<1->mlflow-skinny==3.2.0->mlflow) (4.10.0)\n",
      "Requirement already satisfied: sniffio>=1.1 in /opt/homebrew/Caskroom/miniconda/base/envs/machinelearning/lib/python3.11/site-packages (from anyio<5,>=3.6.2->starlette<0.48.0,>=0.40.0->fastapi<1->mlflow-skinny==3.2.0->mlflow) (1.3.1)\n",
      "Requirement already satisfied: h11>=0.8 in /opt/homebrew/Caskroom/miniconda/base/envs/machinelearning/lib/python3.11/site-packages (from uvicorn<1->mlflow-skinny==3.2.0->mlflow) (0.16.0)\n"
     ]
    }
   ],
   "source": [
    "!pip install --upgrade mlflow"
   ]
  },
  {
   "cell_type": "code",
   "execution_count": 4,
   "id": "a7fd59b4",
   "metadata": {},
   "outputs": [],
   "source": [
    "# Import necessary libraries\n",
    "\n",
    "# SKLearn\n",
    "from sklearn.datasets import make_regression\n",
    "from sklearn.ensemble import RandomForestRegressor\n",
    "from sklearn.metrics import mean_squared_error\n",
    "from sklearn.model_selection import train_test_split\n",
    "\n",
    "# MLFlow\n",
    "import mlflow\n",
    "import mlflow.sklearn"
   ]
  },
  {
   "cell_type": "code",
   "execution_count": 7,
   "id": "6c2087c4",
   "metadata": {},
   "outputs": [
    {
     "name": "stderr",
     "output_type": "stream",
     "text": [
      "Successfully registered model 'sk-learn-reandom-forest-regression-model'.\n",
      "Created version '1' of model 'sk-learn-reandom-forest-regression-model'.\n"
     ]
    }
   ],
   "source": [
    "with mlflow.start_run():\n",
    "\n",
    "    # Create a synthetic regression dataset\n",
    "    X, y = make_regression(n_features=4, n_informative=2, random_state=0, shuffle=False)\n",
    "    X_train, X_test, y_train, y_test = train_test_split(X, y, test_size=0.2, random_state=42)\n",
    "\n",
    "    params = {\n",
    "        \"max_depth\": 2,\n",
    "        \"random_state\": 42\n",
    "    }\n",
    "\n",
    "    # Train a Random Forest model\n",
    "    model = RandomForestRegressor(**params)\n",
    "    model.fit(X_train, y_train)\n",
    "\n",
    "    # Log model parameters and metrics\n",
    "    mlflow.log_params(params)\n",
    "    mlflow.log_metric(\"mse\", mean_squared_error(y_test, model.predict(X_test)))\n",
    "\n",
    "    # Log the sklearn model\n",
    "    mlflow.sklearn.log_model(sk_model=model, name=\"sklearn-model\", input_example=X_train, registered_model_name=\"sk-learn-reandom-forest-regression-model\")"
   ]
  },
  {
   "cell_type": "markdown",
   "id": "850b13e3",
   "metadata": {},
   "source": [
    "Result should be output at directory `mlruns`"
   ]
  },
  {
   "cell_type": "code",
   "execution_count": null,
   "id": "b6a11fc7",
   "metadata": {},
   "outputs": [],
   "source": []
  }
 ],
 "metadata": {
  "kernelspec": {
   "display_name": "machinelearning",
   "language": "python",
   "name": "python3"
  },
  "language_info": {
   "codemirror_mode": {
    "name": "ipython",
    "version": 3
   },
   "file_extension": ".py",
   "mimetype": "text/x-python",
   "name": "python",
   "nbconvert_exporter": "python",
   "pygments_lexer": "ipython3",
   "version": "3.11.13"
  }
 },
 "nbformat": 4,
 "nbformat_minor": 5
}
